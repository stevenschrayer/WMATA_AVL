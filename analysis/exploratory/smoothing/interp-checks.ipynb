{
    "cells": [
        {
            "cell_type": "markdown",
            "source": [
                "# Evaluate Interpolation Methods\r\n",
                "\r\n",
                "Let's try out different interpolation methods! "
            ],
            "metadata": {}
        },
        {
            "cell_type": "code",
            "execution_count": 2,
            "source": [
                "import os, sys, pandas as pd, numpy as np\r\n",
                "import pyarrow as pa\r\n",
                "import pyarrow.parquet as pq\r\n",
                "from dotenv import dotenv_values\r\n",
                "\r\n",
                "if os.getlogin() == \"WylieTimmerman\":\r\n",
                "    # Working Paths\r\n",
                "    # the following needed to run in vscode jupyter interpreter\r\n",
                "    os.environ[\"GDAL_DATA\"] = os.environ[\"CONDA_PREFIX\"] + \"\\Library\\share\\gdal\"\r\n",
                "    path_working = r\"C:\\Users\\WylieTimmerman\\Documents\\projects_local\\WMATA_AVL_datamart\"\r\n",
                "    os.chdir(os.path.join(path_working))\r\n",
                "    sys.path.append(r\"C:\\Users\\WylieTimmerman\\Documents\\projects_local\\WMATA_AVL_datamart\")\r\n",
                "    path_sp = r\"C:\\OD\\Foursquare ITP\\Projects - WMATA Datamart\\Task 3 - Bus Priority\"\r\n",
                "    path_source_data = os.path.join(path_sp,\"data\",\"00-Raw\")\r\n",
                "    path_processed_data = os.path.join(path_sp, \"Data\",\"02-Processed\")\r\n",
                "    # Server credentials\r\n",
                "    config = dotenv_values(os.path.join(path_working, '.env'))\r\n",
                "    # other things for wylie's dev environment            \r\n"
            ],
            "outputs": [],
            "metadata": {}
        },
        {
            "cell_type": "markdown",
            "source": [
                "We'll read in some already decomposed data, since it includes some flags for stop window changes that will be useful. The error here comes from a duplicated column that comes from a bad join we didn't address earlier."
            ],
            "metadata": {}
        },
        {
            "cell_type": "code",
            "execution_count": 3,
            "source": [
                "rawnav = (\r\n",
                "    pd.read_csv(\r\n",
                "        os.path.join(path_sp,\"data\",\"01-interim\",\"test_decomp_mov9_all.csv\")\r\n",
                "    )\r\n",
                "    .drop(['index_run_end','lat_raw','long_raw','sat_cnt','odom_interp_fail','odom_low','odom_hi','blank'], axis = \"columns\")\r\n",
                ")\r\n"
            ],
            "outputs": [
                {
                    "output_type": "stream",
                    "name": "stderr",
                    "text": [
                        "C:\\Users\\WylieTimmerman\\.conda\\envs\\datamart6\\lib\\site-packages\\IPython\\core\\interactiveshell.py:3441: DtypeWarning: Columns (15,28) have mixed types.Specify dtype option on import or set low_memory=False.\n",
                        "  exec(code_obj, self.user_global_ns, self.user_ns)\n"
                    ]
                }
            ],
            "metadata": {}
        },
        {
            "cell_type": "code",
            "execution_count": 4,
            "source": [
                "rawnav.info(verbose = True)"
            ],
            "outputs": [
                {
                    "output_type": "stream",
                    "name": "stdout",
                    "text": [
                        "<class 'pandas.core.frame.DataFrame'>\n",
                        "RangeIndex: 840726 entries, 0 to 840725\n",
                        "Data columns (total 46 columns):\n",
                        " #   Column                Non-Null Count   Dtype  \n",
                        "---  ------                --------------   -----  \n",
                        " 0   Unnamed: 0            840726 non-null  int64  \n",
                        " 1   filename              840726 non-null  object \n",
                        " 2   index_run_start       840726 non-null  float64\n",
                        " 3   route_pattern         840726 non-null  object \n",
                        " 4   pattern               840726 non-null  int64  \n",
                        " 5   route                 840726 non-null  object \n",
                        " 6   wday                  840726 non-null  object \n",
                        " 7   start_date_time       840726 non-null  object \n",
                        " 8   index_loc             840726 non-null  float64\n",
                        " 9   odom_ft               840724 non-null  float64\n",
                        " 10  sec_past_st           840726 non-null  float64\n",
                        " 11  heading               840726 non-null  float64\n",
                        " 12  door_state            840726 non-null  object \n",
                        " 13  veh_state             840726 non-null  object \n",
                        " 14  row_before_apc        840726 non-null  object \n",
                        " 15  lat                   840726 non-null  float64\n",
                        " 16  long                  840726 non-null  float64\n",
                        " 17  collapsed_rows        33801 non-null   float64\n",
                        " 18  odom_ft_min           33801 non-null   float64\n",
                        " 19  odom_ft_max           33801 non-null   float64\n",
                        " 20  door_state_all        33801 non-null   object \n",
                        " 21  stop_window_e         17684 non-null   object \n",
                        " 22  stop_window_x         18245 non-null   object \n",
                        " 23  row_before_apc.1      840726 non-null  object \n",
                        " 24  odom_low              840726 non-null  bool   \n",
                        " 25  odom_hi               840726 non-null  bool   \n",
                        " 26  secs_marg             840421 non-null  float64\n",
                        " 27  odom_ft_marg          840419 non-null  float64\n",
                        " 28  fps_next              840421 non-null  float64\n",
                        " 29  accel_next            840116 non-null  float64\n",
                        " 30  jerk_next             839811 non-null  float64\n",
                        " 31  is_stopped            840726 non-null  bool   \n",
                        " 32  stopped_changes       840726 non-null  int64  \n",
                        " 33  fps3                  840587 non-null  float64\n",
                        " 34  accel3                840570 non-null  float64\n",
                        " 35  jerk3                 840267 non-null  float64\n",
                        " 36  accel5                840608 non-null  float64\n",
                        " 37  accel7                840612 non-null  float64\n",
                        " 38  accel9                840609 non-null  float64\n",
                        " 39  is_steady             840726 non-null  bool   \n",
                        " 40  door_state_closed     840726 non-null  bool   \n",
                        " 41  any_door_open         840726 non-null  bool   \n",
                        " 42  steady_fps_sec_start  804400 non-null  float64\n",
                        " 43  steady_fps_sec_end    804400 non-null  float64\n",
                        " 44  accel_decel           242133 non-null  object \n",
                        " 45  basic_decomp          840726 non-null  object \n",
                        "dtypes: bool(6), float64(23), int64(3), object(14)\n",
                        "memory usage: 261.4+ MB\n"
                    ]
                }
            ],
            "metadata": {}
        },
        {
            "cell_type": "markdown",
            "source": [
                "Let's write some functions that evaluate size of miss"
            ],
            "metadata": {}
        },
        {
            "cell_type": "code",
            "execution_count": 7,
            "source": [
                "def calc_fail(rawnav, ft_threshold = 1):\r\n",
                "\r\n",
                "    rawnav = (\r\n",
                "        rawnav\r\n",
                "        # calculate miss from each side of range\r\n",
                "        .assign(\r\n",
                "            odom_low = lambda x, ft = ft_threshold :\r\n",
                "                (x.odom_ft_min - ft) - x.odom_ft,\r\n",
                "            odom_hi  = lambda x, ft = ft_threshold :\r\n",
                "                x.odom_ft - (x.odom_ft_max + ft),\r\n",
                "        )\r\n",
                "        # then keep only the ones where this is positive\r\n",
                "        .assign(\r\n",
                "            odom_low = lambda x: np.maximum.reduce(x.odom_low, 0),\r\n",
                "            odom_hi = lambda x: np.maximum.reduce(x.odom_hi,0)\r\n",
                "        )\r\n",
                "        .assign(\r\n",
                "            odom_miss = lambda x: np.maximum.reduce(x.odom_low,x.odom_hi)\r\n",
                "        )\r\n",
                "        .assign(\r\n",
                "            odom_interp_fail = lambda x:\r\n",
                "                x.odom_miss.gt(0)\r\n",
                "        ) \r\n",
                "    )\r\n"
            ],
            "outputs": [],
            "metadata": {}
        },
        {
            "cell_type": "markdown",
            "source": [
                "let's double check on the existing files"
            ],
            "metadata": {}
        },
        {
            "cell_type": "code",
            "execution_count": 8,
            "source": [
                "rawnav_check = (\r\n",
                "    rawnav\r\n",
                "    .pipe(\r\n",
                "        calc_fail,\r\n",
                "        ft_threshold = 1\r\n",
                "    )\r\n",
                ")"
            ],
            "outputs": [
                {
                    "output_type": "error",
                    "ename": "TypeError",
                    "evalue": "return arrays must be of ArrayType",
                    "traceback": [
                        "\u001b[1;31m---------------------------------------------------------------------------\u001b[0m",
                        "\u001b[1;31mTypeError\u001b[0m                                 Traceback (most recent call last)",
                        "\u001b[1;32m~\\AppData\\Local\\Temp/ipykernel_22436/2821523126.py\u001b[0m in \u001b[0;36m<module>\u001b[1;34m\u001b[0m\n\u001b[0;32m      1\u001b[0m rawnav_check = (\n\u001b[1;32m----> 2\u001b[1;33m     \u001b[0mrawnav\u001b[0m\u001b[1;33m\u001b[0m\u001b[1;33m\u001b[0m\u001b[0m\n\u001b[0m\u001b[0;32m      3\u001b[0m     .pipe(\n\u001b[0;32m      4\u001b[0m         \u001b[0mcalc_fail\u001b[0m\u001b[1;33m,\u001b[0m\u001b[1;33m\u001b[0m\u001b[1;33m\u001b[0m\u001b[0m\n\u001b[0;32m      5\u001b[0m         \u001b[0mft_threshold\u001b[0m \u001b[1;33m=\u001b[0m \u001b[1;36m1\u001b[0m\u001b[1;33m\u001b[0m\u001b[1;33m\u001b[0m\u001b[0m\n",
                        "\u001b[1;32m~\\.conda\\envs\\datamart6\\lib\\site-packages\\pandas\\core\\generic.py\u001b[0m in \u001b[0;36mpipe\u001b[1;34m(self, func, *args, **kwargs)\u001b[0m\n\u001b[0;32m   5419\u001b[0m         ...  )  # doctest: +SKIP\n\u001b[0;32m   5420\u001b[0m         \"\"\"\n\u001b[1;32m-> 5421\u001b[1;33m         \u001b[1;32mreturn\u001b[0m \u001b[0mcom\u001b[0m\u001b[1;33m.\u001b[0m\u001b[0mpipe\u001b[0m\u001b[1;33m(\u001b[0m\u001b[0mself\u001b[0m\u001b[1;33m,\u001b[0m \u001b[0mfunc\u001b[0m\u001b[1;33m,\u001b[0m \u001b[1;33m*\u001b[0m\u001b[0margs\u001b[0m\u001b[1;33m,\u001b[0m \u001b[1;33m**\u001b[0m\u001b[0mkwargs\u001b[0m\u001b[1;33m)\u001b[0m\u001b[1;33m\u001b[0m\u001b[1;33m\u001b[0m\u001b[0m\n\u001b[0m\u001b[0;32m   5422\u001b[0m \u001b[1;33m\u001b[0m\u001b[0m\n\u001b[0;32m   5423\u001b[0m     \u001b[1;31m# ----------------------------------------------------------------------\u001b[0m\u001b[1;33m\u001b[0m\u001b[1;33m\u001b[0m\u001b[1;33m\u001b[0m\u001b[0m\n",
                        "\u001b[1;32m~\\.conda\\envs\\datamart6\\lib\\site-packages\\pandas\\core\\common.py\u001b[0m in \u001b[0;36mpipe\u001b[1;34m(obj, func, *args, **kwargs)\u001b[0m\n\u001b[0;32m    465\u001b[0m         \u001b[1;32mreturn\u001b[0m \u001b[0mfunc\u001b[0m\u001b[1;33m(\u001b[0m\u001b[1;33m*\u001b[0m\u001b[0margs\u001b[0m\u001b[1;33m,\u001b[0m \u001b[1;33m**\u001b[0m\u001b[0mkwargs\u001b[0m\u001b[1;33m)\u001b[0m\u001b[1;33m\u001b[0m\u001b[1;33m\u001b[0m\u001b[0m\n\u001b[0;32m    466\u001b[0m     \u001b[1;32melse\u001b[0m\u001b[1;33m:\u001b[0m\u001b[1;33m\u001b[0m\u001b[1;33m\u001b[0m\u001b[0m\n\u001b[1;32m--> 467\u001b[1;33m         \u001b[1;32mreturn\u001b[0m \u001b[0mfunc\u001b[0m\u001b[1;33m(\u001b[0m\u001b[0mobj\u001b[0m\u001b[1;33m,\u001b[0m \u001b[1;33m*\u001b[0m\u001b[0margs\u001b[0m\u001b[1;33m,\u001b[0m \u001b[1;33m**\u001b[0m\u001b[0mkwargs\u001b[0m\u001b[1;33m)\u001b[0m\u001b[1;33m\u001b[0m\u001b[1;33m\u001b[0m\u001b[0m\n\u001b[0m\u001b[0;32m    468\u001b[0m \u001b[1;33m\u001b[0m\u001b[0m\n\u001b[0;32m    469\u001b[0m \u001b[1;33m\u001b[0m\u001b[0m\n",
                        "\u001b[1;32m~\\AppData\\Local\\Temp/ipykernel_22436/1417410807.py\u001b[0m in \u001b[0;36mcalc_fail\u001b[1;34m(rawnav, ft_threshold)\u001b[0m\n\u001b[0;32m      2\u001b[0m \u001b[1;33m\u001b[0m\u001b[0m\n\u001b[0;32m      3\u001b[0m     rawnav = (\n\u001b[1;32m----> 4\u001b[1;33m         \u001b[0mrawnav\u001b[0m\u001b[1;33m\u001b[0m\u001b[1;33m\u001b[0m\u001b[0m\n\u001b[0m\u001b[0;32m      5\u001b[0m         .assign(\n\u001b[0;32m      6\u001b[0m             \u001b[0modom_interp_fail\u001b[0m \u001b[1;33m=\u001b[0m \u001b[1;32mlambda\u001b[0m \u001b[0mx\u001b[0m\u001b[1;33m,\u001b[0m \u001b[0mft\u001b[0m \u001b[1;33m=\u001b[0m \u001b[0mft_threshold\u001b[0m\u001b[1;33m:\u001b[0m\u001b[1;33m\u001b[0m\u001b[1;33m\u001b[0m\u001b[0m\n",
                        "\u001b[1;32m~\\.conda\\envs\\datamart6\\lib\\site-packages\\pandas\\core\\frame.py\u001b[0m in \u001b[0;36massign\u001b[1;34m(self, **kwargs)\u001b[0m\n\u001b[0;32m   4479\u001b[0m \u001b[1;33m\u001b[0m\u001b[0m\n\u001b[0;32m   4480\u001b[0m         \u001b[1;32mfor\u001b[0m \u001b[0mk\u001b[0m\u001b[1;33m,\u001b[0m \u001b[0mv\u001b[0m \u001b[1;32min\u001b[0m \u001b[0mkwargs\u001b[0m\u001b[1;33m.\u001b[0m\u001b[0mitems\u001b[0m\u001b[1;33m(\u001b[0m\u001b[1;33m)\u001b[0m\u001b[1;33m:\u001b[0m\u001b[1;33m\u001b[0m\u001b[1;33m\u001b[0m\u001b[0m\n\u001b[1;32m-> 4481\u001b[1;33m             \u001b[0mdata\u001b[0m\u001b[1;33m[\u001b[0m\u001b[0mk\u001b[0m\u001b[1;33m]\u001b[0m \u001b[1;33m=\u001b[0m \u001b[0mcom\u001b[0m\u001b[1;33m.\u001b[0m\u001b[0mapply_if_callable\u001b[0m\u001b[1;33m(\u001b[0m\u001b[0mv\u001b[0m\u001b[1;33m,\u001b[0m \u001b[0mdata\u001b[0m\u001b[1;33m)\u001b[0m\u001b[1;33m\u001b[0m\u001b[1;33m\u001b[0m\u001b[0m\n\u001b[0m\u001b[0;32m   4482\u001b[0m         \u001b[1;32mreturn\u001b[0m \u001b[0mdata\u001b[0m\u001b[1;33m\u001b[0m\u001b[1;33m\u001b[0m\u001b[0m\n\u001b[0;32m   4483\u001b[0m \u001b[1;33m\u001b[0m\u001b[0m\n",
                        "\u001b[1;32m~\\.conda\\envs\\datamart6\\lib\\site-packages\\pandas\\core\\common.py\u001b[0m in \u001b[0;36mapply_if_callable\u001b[1;34m(maybe_callable, obj, **kwargs)\u001b[0m\n\u001b[0;32m    352\u001b[0m     \"\"\"\n\u001b[0;32m    353\u001b[0m     \u001b[1;32mif\u001b[0m \u001b[0mcallable\u001b[0m\u001b[1;33m(\u001b[0m\u001b[0mmaybe_callable\u001b[0m\u001b[1;33m)\u001b[0m\u001b[1;33m:\u001b[0m\u001b[1;33m\u001b[0m\u001b[1;33m\u001b[0m\u001b[0m\n\u001b[1;32m--> 354\u001b[1;33m         \u001b[1;32mreturn\u001b[0m \u001b[0mmaybe_callable\u001b[0m\u001b[1;33m(\u001b[0m\u001b[0mobj\u001b[0m\u001b[1;33m,\u001b[0m \u001b[1;33m**\u001b[0m\u001b[0mkwargs\u001b[0m\u001b[1;33m)\u001b[0m\u001b[1;33m\u001b[0m\u001b[1;33m\u001b[0m\u001b[0m\n\u001b[0m\u001b[0;32m    355\u001b[0m \u001b[1;33m\u001b[0m\u001b[0m\n\u001b[0;32m    356\u001b[0m     \u001b[1;32mreturn\u001b[0m \u001b[0mmaybe_callable\u001b[0m\u001b[1;33m\u001b[0m\u001b[1;33m\u001b[0m\u001b[0m\n",
                        "\u001b[1;32m~\\AppData\\Local\\Temp/ipykernel_22436/1417410807.py\u001b[0m in \u001b[0;36m<lambda>\u001b[1;34m(x, ft)\u001b[0m\n\u001b[0;32m     12\u001b[0m                 np.where(\n\u001b[0;32m     13\u001b[0m                     \u001b[0mx\u001b[0m\u001b[1;33m.\u001b[0m\u001b[0modom_interp_fail\u001b[0m\u001b[1;33m,\u001b[0m\u001b[1;33m\u001b[0m\u001b[1;33m\u001b[0m\u001b[0m\n\u001b[1;32m---> 14\u001b[1;33m                     np.maximum(\n\u001b[0m\u001b[0;32m     15\u001b[0m                         \u001b[1;33m(\u001b[0m\u001b[1;33m(\u001b[0m\u001b[0mx\u001b[0m\u001b[1;33m.\u001b[0m\u001b[0modom_ft_min\u001b[0m \u001b[1;33m-\u001b[0m \u001b[0mft\u001b[0m\u001b[1;33m)\u001b[0m \u001b[1;33m-\u001b[0m \u001b[0mx\u001b[0m\u001b[1;33m.\u001b[0m\u001b[0modom_ft\u001b[0m\u001b[1;33m)\u001b[0m\u001b[1;33m,\u001b[0m\u001b[1;33m\u001b[0m\u001b[1;33m\u001b[0m\u001b[0m\n\u001b[0;32m     16\u001b[0m                         \u001b[1;33m(\u001b[0m\u001b[0mx\u001b[0m\u001b[1;33m.\u001b[0m\u001b[0modom_ft\u001b[0m \u001b[1;33m-\u001b[0m \u001b[1;33m(\u001b[0m\u001b[0mx\u001b[0m\u001b[1;33m.\u001b[0m\u001b[0modom_ft_max\u001b[0m \u001b[1;33m+\u001b[0m \u001b[0mft\u001b[0m\u001b[1;33m)\u001b[0m\u001b[1;33m)\u001b[0m\u001b[1;33m,\u001b[0m\u001b[1;33m\u001b[0m\u001b[1;33m\u001b[0m\u001b[0m\n",
                        "\u001b[1;32m~\\.conda\\envs\\datamart6\\lib\\site-packages\\pandas\\core\\generic.py\u001b[0m in \u001b[0;36m__array_ufunc__\u001b[1;34m(self, ufunc, method, *inputs, **kwargs)\u001b[0m\n\u001b[0;32m   2027\u001b[0m         \u001b[0mself\u001b[0m\u001b[1;33m,\u001b[0m \u001b[0mufunc\u001b[0m\u001b[1;33m:\u001b[0m \u001b[0mnp\u001b[0m\u001b[1;33m.\u001b[0m\u001b[0mufunc\u001b[0m\u001b[1;33m,\u001b[0m \u001b[0mmethod\u001b[0m\u001b[1;33m:\u001b[0m \u001b[0mstr\u001b[0m\u001b[1;33m,\u001b[0m \u001b[1;33m*\u001b[0m\u001b[0minputs\u001b[0m\u001b[1;33m:\u001b[0m \u001b[0mAny\u001b[0m\u001b[1;33m,\u001b[0m \u001b[1;33m**\u001b[0m\u001b[0mkwargs\u001b[0m\u001b[1;33m:\u001b[0m \u001b[0mAny\u001b[0m\u001b[1;33m\u001b[0m\u001b[1;33m\u001b[0m\u001b[0m\n\u001b[0;32m   2028\u001b[0m     ):\n\u001b[1;32m-> 2029\u001b[1;33m         \u001b[1;32mreturn\u001b[0m \u001b[0marraylike\u001b[0m\u001b[1;33m.\u001b[0m\u001b[0marray_ufunc\u001b[0m\u001b[1;33m(\u001b[0m\u001b[0mself\u001b[0m\u001b[1;33m,\u001b[0m \u001b[0mufunc\u001b[0m\u001b[1;33m,\u001b[0m \u001b[0mmethod\u001b[0m\u001b[1;33m,\u001b[0m \u001b[1;33m*\u001b[0m\u001b[0minputs\u001b[0m\u001b[1;33m,\u001b[0m \u001b[1;33m**\u001b[0m\u001b[0mkwargs\u001b[0m\u001b[1;33m)\u001b[0m\u001b[1;33m\u001b[0m\u001b[1;33m\u001b[0m\u001b[0m\n\u001b[0m\u001b[0;32m   2030\u001b[0m \u001b[1;33m\u001b[0m\u001b[0m\n\u001b[0;32m   2031\u001b[0m     \u001b[1;31m# ideally we would define this to avoid the getattr checks, but\u001b[0m\u001b[1;33m\u001b[0m\u001b[1;33m\u001b[0m\u001b[1;33m\u001b[0m\u001b[0m\n",
                        "\u001b[1;32m~\\.conda\\envs\\datamart6\\lib\\site-packages\\pandas\\core\\arraylike.py\u001b[0m in \u001b[0;36marray_ufunc\u001b[1;34m(self, ufunc, method, *inputs, **kwargs)\u001b[0m\n\u001b[0;32m    362\u001b[0m         \u001b[1;31m# ufunc(series, ...)\u001b[0m\u001b[1;33m\u001b[0m\u001b[1;33m\u001b[0m\u001b[1;33m\u001b[0m\u001b[0m\n\u001b[0;32m    363\u001b[0m         \u001b[0minputs\u001b[0m \u001b[1;33m=\u001b[0m \u001b[0mtuple\u001b[0m\u001b[1;33m(\u001b[0m\u001b[0mextract_array\u001b[0m\u001b[1;33m(\u001b[0m\u001b[0mx\u001b[0m\u001b[1;33m,\u001b[0m \u001b[0mextract_numpy\u001b[0m\u001b[1;33m=\u001b[0m\u001b[1;32mTrue\u001b[0m\u001b[1;33m)\u001b[0m \u001b[1;32mfor\u001b[0m \u001b[0mx\u001b[0m \u001b[1;32min\u001b[0m \u001b[0minputs\u001b[0m\u001b[1;33m)\u001b[0m\u001b[1;33m\u001b[0m\u001b[1;33m\u001b[0m\u001b[0m\n\u001b[1;32m--> 364\u001b[1;33m         \u001b[0mresult\u001b[0m \u001b[1;33m=\u001b[0m \u001b[0mgetattr\u001b[0m\u001b[1;33m(\u001b[0m\u001b[0mufunc\u001b[0m\u001b[1;33m,\u001b[0m \u001b[0mmethod\u001b[0m\u001b[1;33m)\u001b[0m\u001b[1;33m(\u001b[0m\u001b[1;33m*\u001b[0m\u001b[0minputs\u001b[0m\u001b[1;33m,\u001b[0m \u001b[1;33m**\u001b[0m\u001b[0mkwargs\u001b[0m\u001b[1;33m)\u001b[0m\u001b[1;33m\u001b[0m\u001b[1;33m\u001b[0m\u001b[0m\n\u001b[0m\u001b[0;32m    365\u001b[0m     \u001b[1;32melse\u001b[0m\u001b[1;33m:\u001b[0m\u001b[1;33m\u001b[0m\u001b[1;33m\u001b[0m\u001b[0m\n\u001b[0;32m    366\u001b[0m         \u001b[1;31m# ufunc(dataframe)\u001b[0m\u001b[1;33m\u001b[0m\u001b[1;33m\u001b[0m\u001b[1;33m\u001b[0m\u001b[0m\n",
                        "\u001b[1;31mTypeError\u001b[0m: return arrays must be of ArrayType"
                    ]
                }
            ],
            "metadata": {}
        },
        {
            "cell_type": "code",
            "execution_count": null,
            "source": [
                "rawnav_fails = rawnav_check.odom_interp_fail.describe()"
            ],
            "outputs": [],
            "metadata": {}
        }
    ],
    "metadata": {
        "orig_nbformat": 4,
        "language_info": {
            "name": "python",
            "version": "3.9.6",
            "mimetype": "text/x-python",
            "codemirror_mode": {
                "name": "ipython",
                "version": 3
            },
            "pygments_lexer": "ipython3",
            "nbconvert_exporter": "python",
            "file_extension": ".py"
        },
        "kernelspec": {
            "name": "python3",
            "display_name": "Python 3.9.6 64-bit ('datamart6': conda)"
        },
        "interpreter": {
            "hash": "a9fd0b08f9fa72feef383850fc190106f7c37a1cf0a0377a8c1402f673c9ab5a"
        }
    },
    "nbformat": 4,
    "nbformat_minor": 2
}