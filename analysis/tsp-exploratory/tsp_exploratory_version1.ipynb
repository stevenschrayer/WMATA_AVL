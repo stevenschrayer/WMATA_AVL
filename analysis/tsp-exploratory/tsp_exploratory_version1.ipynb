{
 "cells": [
  {
   "cell_type": "markdown",
   "metadata": {},
   "source": [
    "#### Import packages"
   ]
  },
  {
   "cell_type": "code",
   "execution_count": 35,
   "metadata": {
    "execution": {
     "iopub.execute_input": "2021-06-29T22:53:03.133830Z",
     "iopub.status.busy": "2021-06-29T22:53:03.132830Z",
     "iopub.status.idle": "2021-06-29T22:53:03.139847Z",
     "shell.execute_reply": "2021-06-29T22:53:03.138855Z",
     "shell.execute_reply.started": "2021-06-29T22:53:03.133830Z"
    }
   },
   "outputs": [],
   "source": [
    "import pandas as pd\n",
    "import numpy as np\n",
    "import pandas_access as mdb\n",
    "import os\n",
    "import sys\n",
    "from datetime import datetime\n",
    "import glob\n",
    "import warnings\n",
    "import matplotlib.pyplot as plt\n",
    "import seaborn as sns\n",
    "import pyodbc\n",
    "import geopandas as gpd\n",
    "import itertools\n",
    "import folium\n",
    "\n",
    "from scipy.spatial import cKDTree\n",
    "\n",
    "warnings.filterwarnings('ignore')\n",
    "pd.options.display.max_columns = 75\n",
    "pd.options.display.max_rows = 250"
   ]
  },
  {
   "cell_type": "markdown",
   "metadata": {},
   "source": [
    "#### Functions"
   ]
  },
  {
   "cell_type": "code",
   "execution_count": 2,
   "metadata": {
    "execution": {
     "iopub.execute_input": "2021-06-29T21:38:32.216724Z",
     "iopub.status.busy": "2021-06-29T21:38:32.216724Z",
     "iopub.status.idle": "2021-06-29T21:38:32.223721Z",
     "shell.execute_reply": "2021-06-29T21:38:32.222720Z",
     "shell.execute_reply.started": "2021-06-29T21:38:32.216724Z"
    }
   },
   "outputs": [],
   "source": [
    "def get_time():\n",
    "    \"\"\"\n",
    "    Returns current timestamp.\n",
    "    \"\"\"\n",
    "    return datetime.now().strftime(\"%m-%d-%Y %H:%M:%S\")"
   ]
  },
  {
   "cell_type": "markdown",
   "metadata": {},
   "source": [
    "#### Configuration"
   ]
  },
  {
   "cell_type": "code",
   "execution_count": 3,
   "metadata": {
    "execution": {
     "iopub.execute_input": "2021-06-29T21:38:34.202497Z",
     "iopub.status.busy": "2021-06-29T21:38:34.202497Z",
     "iopub.status.idle": "2021-06-29T21:38:34.220495Z",
     "shell.execute_reply": "2021-06-29T21:38:34.219491Z",
     "shell.execute_reply.started": "2021-06-29T21:38:34.202497Z"
    }
   },
   "outputs": [],
   "source": [
    "months = [202103, 202104]\n",
    "routes = ['30N', '30S', '31', '33']\n",
    "days = ['Tuesday']\n",
    "directions = ['EAST', 'SOUTH']\n",
    "start_time = '05:00:00'\n",
    "end_time = '10:00:00'\n",
    "CRS = 'EPSG:4326'\n",
    "distance_thresh = 400\n",
    "duration_thresh = 1.5"
   ]
  },
  {
   "cell_type": "markdown",
   "metadata": {},
   "source": [
    "#### Directory"
   ]
  },
  {
   "cell_type": "code",
   "execution_count": 4,
   "metadata": {
    "execution": {
     "iopub.execute_input": "2021-06-29T21:38:36.615343Z",
     "iopub.status.busy": "2021-06-29T21:38:36.615343Z",
     "iopub.status.idle": "2021-06-29T21:38:37.277545Z",
     "shell.execute_reply": "2021-06-29T21:38:37.277545Z",
     "shell.execute_reply.started": "2021-06-29T21:38:36.615343Z"
    }
   },
   "outputs": [],
   "source": [
    "root_directory = os.path.normpath(r'C:\\Users\\amondal\\OneDrive - Cambridge Systematics\\CS PROJECTS\\WMATA Bus Priority\\data\\tsp_exploratory')\n",
    "\n",
    "path_repo = os.path.join(r'C:\\Users\\amondal\\OneDrive - Cambridge Systematics\\CS PROJECTS\\WMATA Bus Priority\\codebase\\WMATA_AVL')\n",
    "sys.path.append(path_repo)\n",
    "\n",
    "# Import wmatarawnav library\n",
    "import wmatarawnav as wr"
   ]
  },
  {
   "cell_type": "markdown",
   "metadata": {},
   "source": [
    "#### Read rawnav data"
   ]
  },
  {
   "cell_type": "code",
   "execution_count": 5,
   "metadata": {
    "execution": {
     "iopub.execute_input": "2021-06-29T21:39:33.407927Z",
     "iopub.status.busy": "2021-06-29T21:39:33.406965Z",
     "iopub.status.idle": "2021-06-29T21:39:41.994741Z",
     "shell.execute_reply": "2021-06-29T21:39:41.993744Z",
     "shell.execute_reply.started": "2021-06-29T21:39:33.407927Z"
    }
   },
   "outputs": [],
   "source": [
    "def read_rawnav_parquet(root_directory, month, routes, days):\n",
    "    return (wr.read_cleaned_rawnav(analysis_routes_= routes,\n",
    "                                   analysis_days_ = days,\n",
    "                                   path = os.path.join(root_directory, 'rawnav_data_wisconsin', f'rawnav_data_{month}.parquet')))\n",
    "\n",
    "data = pd.concat([read_rawnav_parquet(root_directory, month, routes, days) for month in months])\n",
    "\n",
    "# Sort data by `start_date_time`, `route`, and `index_loc`\n",
    "data = data.sort_values(by = ['start_date_time', 'route', 'index_loc'])\n",
    "\n",
    "# Apply filters | AM Peak (5 am - 10 am)\n",
    "data = data.set_index('start_date_time').between_time(start_time, end_time, include_end = False).reset_index()\n",
    "\n",
    "# Create unique trip ID\n",
    "data['trip_id'] = data.index_run_start.astype(int).astype(str) + ' - ' + data.filename"
   ]
  },
  {
   "cell_type": "markdown",
   "metadata": {},
   "source": [
    "#### Read and process schedule database"
   ]
  },
  {
   "cell_type": "code",
   "execution_count": 6,
   "metadata": {
    "execution": {
     "iopub.execute_input": "2021-06-29T21:39:43.933126Z",
     "iopub.status.busy": "2021-06-29T21:39:43.932130Z",
     "iopub.status.idle": "2021-06-29T21:39:44.373113Z",
     "shell.execute_reply": "2021-06-29T21:39:44.373113Z",
     "shell.execute_reply.started": "2021-06-29T21:39:43.933126Z"
    }
   },
   "outputs": [],
   "source": [
    "# Set up connection to WMATA Schedule database\n",
    "# Create cursor object\n",
    "\n",
    "schedule_filename = 'Schedule_082719-201718.mdb'\n",
    "database_path = os.path.join(root_directory, 'wmata_schedule', schedule_filename)\n",
    "connection = pyodbc.connect(r'Driver={Microsoft Access Driver (*.mdb, *.accdb)};DBQ=' + database_path)\n",
    "cursor = connection.cursor()"
   ]
  },
  {
   "cell_type": "code",
   "execution_count": 7,
   "metadata": {
    "execution": {
     "iopub.execute_input": "2021-06-29T21:39:45.215612Z",
     "iopub.status.busy": "2021-06-29T21:39:45.215612Z",
     "iopub.status.idle": "2021-06-29T21:39:46.078633Z",
     "shell.execute_reply": "2021-06-29T21:39:46.078633Z",
     "shell.execute_reply.started": "2021-06-29T21:39:45.215612Z"
    }
   },
   "outputs": [],
   "source": [
    "# Read required tables\n",
    "\n",
    "pattern = pd.read_sql(sql = 'SELECT * FROM Pattern', con = connection)\n",
    "stop = pd.read_sql(sql = 'SELECT * FROM Stop', con = connection)\n",
    "stop_info = pd.read_sql(sql = 'SELECT * FROM StopInfo', con = connection)\n",
    "stop_list = pd.read_sql(sql = 'SELECT * FROM StopList', con = connection)"
   ]
  },
  {
   "cell_type": "code",
   "execution_count": 8,
   "metadata": {
    "execution": {
     "iopub.execute_input": "2021-06-29T21:39:46.078633Z",
     "iopub.status.busy": "2021-06-29T21:39:46.078633Z",
     "iopub.status.idle": "2021-06-29T21:39:46.109887Z",
     "shell.execute_reply": "2021-06-29T21:39:46.108884Z",
     "shell.execute_reply.started": "2021-06-29T21:39:46.078633Z"
    }
   },
   "outputs": [],
   "source": [
    "# Select required columns in each table\n",
    "\n",
    "pattern = pattern[['PatternID', 'TARoute', 'PatternName', 'CDVariation', 'Direction', 'Distance', 'RouteKey']]\n",
    "stop = stop[['GeoID', 'GeoDescription', 'Longitude', 'Latitude']]\n",
    "stop_info = stop_info[['StopID', 'StopDesc']]\n",
    "stop_list = stop_list[['RouteKey', 'StopSequence', 'StopID', 'GeoID']]"
   ]
  },
  {
   "cell_type": "code",
   "execution_count": 9,
   "metadata": {
    "execution": {
     "iopub.execute_input": "2021-06-29T21:39:46.607697Z",
     "iopub.status.busy": "2021-06-29T21:39:46.607697Z",
     "iopub.status.idle": "2021-06-29T21:39:46.637664Z",
     "shell.execute_reply": "2021-06-29T21:39:46.636696Z",
     "shell.execute_reply.started": "2021-06-29T21:39:46.607697Z"
    }
   },
   "outputs": [],
   "source": [
    "# Filter and merge datasets\n",
    "\n",
    "pattern = pattern[pattern.TARoute.isin(routes)].sort_values(by = ['TARoute', 'CDVariation'])\n",
    "stops = stop_list.merge(stop, on = 'GeoID', how = 'left')\n",
    "stops = stops[stops.RouteKey.isin(pattern.RouteKey.unique())].sort_values(by = ['RouteKey', 'StopSequence'])\n",
    "stops = pattern.merge(stops, on = 'RouteKey', how = 'right')"
   ]
  },
  {
   "cell_type": "code",
   "execution_count": 10,
   "metadata": {
    "execution": {
     "iopub.execute_input": "2021-06-29T21:39:48.582508Z",
     "iopub.status.busy": "2021-06-29T21:39:48.582508Z",
     "iopub.status.idle": "2021-06-29T21:39:48.599511Z",
     "shell.execute_reply": "2021-06-29T21:39:48.598505Z",
     "shell.execute_reply.started": "2021-06-29T21:39:48.582508Z"
    }
   },
   "outputs": [],
   "source": [
    "# Create route_pattern column to merge with rawnav\n",
    "stops['route_pattern'] = stops.TARoute.astype(str) + stops.CDVariation.astype(str).str.zfill(2)"
   ]
  },
  {
   "cell_type": "code",
   "execution_count": 11,
   "metadata": {
    "execution": {
     "iopub.execute_input": "2021-06-29T21:39:49.166917Z",
     "iopub.status.busy": "2021-06-29T21:39:49.166917Z",
     "iopub.status.idle": "2021-06-29T21:39:50.882565Z",
     "shell.execute_reply": "2021-06-29T21:39:50.882565Z",
     "shell.execute_reply.started": "2021-06-29T21:39:49.166917Z"
    }
   },
   "outputs": [],
   "source": [
    "# Remove whitespaces from route_pattern columns in rawnav data\n",
    "# Merge route pattern to get Direction\n",
    "\n",
    "data['route_pattern'] = data['route_pattern'].str.strip()\n",
    "data = data.merge(stops[['route_pattern', 'Distance', 'Direction']].drop_duplicates(keep = 'first'),\n",
    "                  on = 'route_pattern',\n",
    "                  how = 'left')\n",
    "\n",
    "# Filter by direction only\n",
    "data = data[data.Direction.isin(directions)]"
   ]
  },
  {
   "cell_type": "markdown",
   "metadata": {},
   "source": [
    "#### Import TSP Intersection Coordinates"
   ]
  },
  {
   "cell_type": "code",
   "execution_count": 12,
   "metadata": {
    "execution": {
     "iopub.execute_input": "2021-06-29T21:40:11.553744Z",
     "iopub.status.busy": "2021-06-29T21:40:11.552745Z",
     "iopub.status.idle": "2021-06-29T21:40:12.593412Z",
     "shell.execute_reply": "2021-06-29T21:40:12.593412Z",
     "shell.execute_reply.started": "2021-06-29T21:40:11.553744Z"
    }
   },
   "outputs": [],
   "source": [
    "# Import TSP intersection coordinates and convert to GeoDataFrame\n",
    "tsp_int = (pd.read_excel(os.path.join(root_directory, \n",
    "                                     'tsp_intersections', \n",
    "                                     'wisconsin_tsp_intersections.xlsx'),\n",
    "                       sheet_name = 'tsp_intersections')\n",
    "           .rename(columns = {'Intersection ' : 'intersection', 'xcoor' : 'int_long', 'ycoor' : 'int_lat'})\n",
    "           .dropna(subset = ['intersection']))[['intersection', 'int_lat', 'int_long']]\n",
    "\n",
    "tsp_int = gpd.GeoDataFrame(tsp_int, \n",
    "                           geometry = gpd.points_from_xy(tsp_int.int_long, tsp_int.int_lat),\n",
    "                           crs = CRS)"
   ]
  },
  {
   "cell_type": "markdown",
   "metadata": {
    "execution": {
     "iopub.execute_input": "2021-06-29T21:40:13.518788Z",
     "iopub.status.busy": "2021-06-29T21:40:13.518788Z",
     "iopub.status.idle": "2021-06-29T21:40:13.694391Z",
     "shell.execute_reply": "2021-06-29T21:40:13.693390Z",
     "shell.execute_reply.started": "2021-06-29T21:40:13.518788Z"
    }
   },
   "source": [
    "#### Plot Intersection Coordinates"
   ]
  },
  {
   "cell_type": "code",
   "execution_count": 33,
   "metadata": {
    "execution": {
     "iopub.execute_input": "2021-06-29T22:52:27.151341Z",
     "iopub.status.busy": "2021-06-29T22:52:27.151341Z",
     "iopub.status.idle": "2021-06-29T22:52:27.157342Z",
     "shell.execute_reply": "2021-06-29T22:52:27.156341Z",
     "shell.execute_reply.started": "2021-06-29T22:52:27.151341Z"
    }
   },
   "outputs": [],
   "source": [
    "def plot_points_on_map(gdf, y_col, x_col, label, radius = 25, color = 'crimson'):\n",
    "    \n",
    "    map_with_points = folium.Map(location = [gdf[y_col].mean(), gdf[x_col].mean()],\n",
    "                                 #tiles = \"Stamen Toner\", \n",
    "                                 zoom_start = 15)\n",
    "    # Add points\n",
    "    for ix, row in gdf.iterrows():\n",
    "        folium.Circle(radius = radius,\n",
    "                      location = [row[y_col], row[x_col]],\n",
    "                      popup = row[label],\n",
    "                      color = color,\n",
    "                      fill = False).add_to(map_with_points)\n",
    "    return map_with_points"
   ]
  },
  {
   "cell_type": "code",
   "execution_count": 36,
   "metadata": {
    "execution": {
     "iopub.execute_input": "2021-06-29T22:54:03.525815Z",
     "iopub.status.busy": "2021-06-29T22:54:03.525815Z",
     "iopub.status.idle": "2021-06-29T22:54:03.571817Z",
     "shell.execute_reply": "2021-06-29T22:54:03.570848Z",
     "shell.execute_reply.started": "2021-06-29T22:54:03.525815Z"
    }
   },
   "outputs": [
    {
     "data": {
      "text/html": [
       "<div style=\"width:100%;\"><div style=\"position:relative;width:100%;height:0;padding-bottom:60%;\"><iframe src=\"about:blank\" style=\"position:absolute;width:100%;height:100%;left:0;top:0;border:none !important;\" data-html=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 onload=\"this.contentDocument.open();this.contentDocument.write(atob(this.getAttribute('data-html')));this.contentDocument.close();\" allowfullscreen webkitallowfullscreen mozallowfullscreen></iframe></div></div>"
      ],
      "text/plain": [
       "<folium.folium.Map at 0x2b1237a1888>"
      ]
     },
     "execution_count": 36,
     "metadata": {},
     "output_type": "execute_result"
    }
   ],
   "source": [
    "plot_points_on_map(gdf = tsp_int, \n",
    "                   x_col = 'int_long', \n",
    "                   y_col = 'int_lat', \n",
    "                   label = 'intersection')"
   ]
  },
  {
   "cell_type": "markdown",
   "metadata": {},
   "source": [
    "#### Trip Filtering\n",
    "\n",
    "- For each pattern and for each trip:\n",
    "    - Consider the trip segments from the first step to the last step. Use the schedule data and stop sequence to identify the closest `rawnav` ping to these two terminal points and drop all pings that are before the first stop and after the last stop.\n",
    "    - Reset the odometer and timer based on the first stop and recalculate the cumulative distribution of distance and duration. \n",
    "    - Record the trip length and duration (from the first stop to the last stop).\n",
    "- For each pattern:\n",
    "    - Calculate the average distance and duration excluding the NULL/ZERO values.\n",
    "    - Select the trips: \n",
    "        - that are 400ft longer or shorter than the average trip distance.\n",
    "        - that are 1.5 times longer or shorter than the average trip duration."
   ]
  },
  {
   "cell_type": "code",
   "execution_count": 38,
   "metadata": {
    "execution": {
     "iopub.execute_input": "2021-06-29T22:54:42.796957Z",
     "iopub.status.busy": "2021-06-29T22:54:42.795959Z",
     "iopub.status.idle": "2021-06-29T22:54:42.806958Z",
     "shell.execute_reply": "2021-06-29T22:54:42.805956Z",
     "shell.execute_reply.started": "2021-06-29T22:54:42.796957Z"
    }
   },
   "outputs": [],
   "source": [
    "# Based on https://gis.stackexchange.com/questions/222315/geopandas-find-nearest-point-in-other-dataframe\n",
    "def get_nearest_point(gdA, gdB):\n",
    "    '''\n",
    "    Find the nearest point from gdB for \n",
    "    each point in gdA.  \n",
    "    '''\n",
    "    nA = np.array(list(gdA.geometry.apply(lambda x: (x.x, x.y))))\n",
    "    nB = np.array(list(gdB.geometry.apply(lambda x: (x.x, x.y))))\n",
    "    btree = cKDTree(nB)\n",
    "    dist, idx = btree.query(nA, k = 1)\n",
    "    gdB_nearest = gdB.iloc[idx].drop(columns = 'geometry').reset_index(drop = True)\n",
    "    gdf = pd.concat([gdA.reset_index(drop=True), gdB_nearest, pd.Series(dist, name = 'dist')], axis=1)\n",
    "    return gdf"
   ]
  },
  {
   "cell_type": "code",
   "execution_count": 39,
   "metadata": {
    "execution": {
     "iopub.execute_input": "2021-06-29T22:54:43.984084Z",
     "iopub.status.busy": "2021-06-29T22:54:43.984084Z",
     "iopub.status.idle": "2021-06-29T22:55:36.570347Z",
     "shell.execute_reply": "2021-06-29T22:55:36.569396Z",
     "shell.execute_reply.started": "2021-06-29T22:54:43.984084Z"
    }
   },
   "outputs": [
    {
     "name": "stdout",
     "output_type": "stream",
     "text": [
      "Pattern 3101 - 4 of 4 | Trip  100.00%%\r"
     ]
    }
   ],
   "source": [
    "# Create a list of all available patterns.\n",
    "pattern_list = data.route_pattern.unique().tolist()\n",
    "\n",
    "# Create empty dictionary to store \n",
    "# trip distance and duration.\n",
    "dist_dict = {}\n",
    "dura_dict = {}\n",
    "processed_df_dict = {}\n",
    "\n",
    "p_count = 1\n",
    "for p in pattern_list:\n",
    "    # Create a stop GeoDataFrame for Pattern 'p'\n",
    "    stops_pattern = stops[stops.route_pattern == p][['route_pattern', 'StopSequence', 'StopID', 'Latitude', 'Longitude']]\n",
    "    stops_pattern = gpd.GeoDataFrame(stops_pattern, \n",
    "                                 geometry = gpd.points_from_xy(stops_pattern.Longitude, stops_pattern.Latitude),\n",
    "                                 crs = CRS)\n",
    "    \n",
    "    # Create a rawnav DataFrame for Pattern 'p'\n",
    "    # Also, create a list of all trips for Pattern 'p'\n",
    "    df = data[data.route_pattern == p]\n",
    "    trip_list = df.trip_id.unique().tolist()\n",
    "    \n",
    "    t_count = 1\n",
    "    _dist_dict = {}\n",
    "    _dura_dict = {}\n",
    "    \n",
    "    for t in trip_list:\n",
    "        # Create a rawnav GeoDataFrame for Pattern 'p' and Trip 't'\n",
    "        df_single_trip = df[df.trip_id == t]\n",
    "        df_single_trip = gpd.GeoDataFrame(df_single_trip, \n",
    "                                  geometry = gpd.points_from_xy(df_single_trip['long'], df_single_trip['lat']),\n",
    "                                  crs = CRS)\n",
    "        \n",
    "        # Get the closest rawnav pings to each stop and intersection\n",
    "        nearest_rawnav_from_stop = get_nearest_point(stops_pattern, df_single_trip[['index_loc', 'geometry']])\n",
    "        nearest_rawnav_from_tsp = get_nearest_point(tsp_int, df_single_trip[['index_loc', 'geometry']])\n",
    "        \n",
    "        # Filter the records before the first stop and after the last stop\n",
    "        # Merge stop level information and intersections with rawnav records\n",
    "        index_loc_min, index_loc_max = nearest_rawnav_from_stop.index_loc.min(), nearest_rawnav_from_stop.index_loc.max()\n",
    "        \n",
    "        df_single_trip = df_single_trip.merge(nearest_rawnav_from_stop[['StopID', 'StopSequence', 'index_loc']],\n",
    "                                              on = 'index_loc', how = 'left')\n",
    "        df_single_trip = df_single_trip.merge(nearest_rawnav_from_tsp[['intersection', 'int_lat', 'int_long', 'index_loc']],\n",
    "                                              on = 'index_loc', how = 'left')\n",
    "        df_single_trip = df_single_trip[(df_single_trip.index_loc >= index_loc_min) & (df_single_trip.index_loc <= index_loc_max)]\n",
    "        \n",
    "        # Adjust odometer reading and runtime based on first stop\n",
    "        df_single_trip['adj_odom_ft_first_stop'] = df_single_trip['odom_ft'] - df_single_trip['odom_ft'].min()\n",
    "        df_single_trip['adj_dur_sec_first_stop'] = df_single_trip['sec_past_st'] - df_single_trip['sec_past_st'].min()\n",
    "        \n",
    "        # Store trip distance and duration for each trip\n",
    "        _dist_dict[t] = df_single_trip.adj_odom_ft_first_stop.max()\n",
    "        _dura_dict[t] = df_single_trip.adj_dur_sec_first_stop.max()\n",
    "        processed_df_dict[t] = df_single_trip\n",
    "        print(f'Pattern {p} - {p_count} of {len(pattern_list)} | Trip {t_count * 100/len(trip_list): .2f}%', end = '\\r')\n",
    "        t_count += 1\n",
    "    \n",
    "    # Store trip distance and duration of all trips\n",
    "    # for Pattern 'p'\n",
    "    dist_dict[p] = _dist_dict\n",
    "    dura_dict[p] = _dura_dict\n",
    "    p_count += 1"
   ]
  },
  {
   "cell_type": "code",
   "execution_count": 45,
   "metadata": {
    "execution": {
     "iopub.execute_input": "2021-06-29T23:08:31.196587Z",
     "iopub.status.busy": "2021-06-29T23:08:31.196587Z",
     "iopub.status.idle": "2021-06-29T23:08:31.207553Z",
     "shell.execute_reply": "2021-06-29T23:08:31.206578Z",
     "shell.execute_reply.started": "2021-06-29T23:08:31.196587Z"
    }
   },
   "outputs": [],
   "source": [
    "def dict2_to_df(dictionary, col_name_1, col_name_2, col_name_3):\n",
    "    '''\n",
    "    Creates a Pandas DataFrame from \n",
    "    2-layer nested dictionary.\n",
    "    '''\n",
    "    df = (pd.concat({k: pd.DataFrame.from_dict(v, orient = 'index') for k, v in dictionary.items()})\n",
    "          .reset_index()\n",
    "          .rename(columns = {'level_0' : col_name_1, 'level_1' : col_name_2, 0 : col_name_3}))\n",
    "    return df"
   ]
  },
  {
   "cell_type": "code",
   "execution_count": 46,
   "metadata": {
    "execution": {
     "iopub.execute_input": "2021-06-29T23:08:35.080638Z",
     "iopub.status.busy": "2021-06-29T23:08:35.080638Z",
     "iopub.status.idle": "2021-06-29T23:08:35.108496Z",
     "shell.execute_reply": "2021-06-29T23:08:35.105516Z",
     "shell.execute_reply.started": "2021-06-29T23:08:35.080638Z"
    }
   },
   "outputs": [],
   "source": [
    "# Create a DataFrame with trip distance and duration\n",
    "trip_sel_df = (dict2_to_df(dictionary = dist_dict, \n",
    "                          col_name_1 = 'route_pattern', \n",
    "                          col_name_2 = 'trip_id', \n",
    "                          col_name_3 = 'distance')\n",
    "               .merge(dict2_to_df(dictionary = dura_dict, \n",
    "                          col_name_1 = 'route_pattern', \n",
    "                          col_name_2 = 'trip_id', \n",
    "                          col_name_3 = 'duration'),\n",
    "                     on = ['route_pattern', 'trip_id'],\n",
    "                     how = 'left')\n",
    "              .replace(0, np.nan))"
   ]
  },
  {
   "cell_type": "code",
   "execution_count": 47,
   "metadata": {
    "execution": {
     "iopub.execute_input": "2021-06-29T23:08:36.500595Z",
     "iopub.status.busy": "2021-06-29T23:08:36.500595Z",
     "iopub.status.idle": "2021-06-29T23:08:36.529595Z",
     "shell.execute_reply": "2021-06-29T23:08:36.527595Z",
     "shell.execute_reply.started": "2021-06-29T23:08:36.500595Z"
    }
   },
   "outputs": [],
   "source": [
    "# Add median distance and duration for each route pattern\n",
    "trip_sel_df = (trip_sel_df.set_index('route_pattern')\n",
    "               .join(trip_sel_df.groupby(['route_pattern'])\n",
    "                     .agg({'distance' : np.median, 'duration' : np.median})\n",
    "                     .add_prefix('rp_med_')))\n",
    "# Selection criteria\n",
    "select_criteria = ((trip_sel_df.distance > trip_sel_df.rp_med_distance - distance_thresh) &\n",
    "                   (trip_sel_df.distance < trip_sel_df.rp_med_distance + distance_thresh) &\n",
    "                   (trip_sel_df.duration < trip_sel_df.rp_med_duration * duration_thresh))\n",
    "\n",
    "trip_sel_df = trip_sel_df.loc[select_criteria, :]"
   ]
  },
  {
   "cell_type": "code",
   "execution_count": 48,
   "metadata": {
    "execution": {
     "iopub.execute_input": "2021-06-29T23:08:38.827722Z",
     "iopub.status.busy": "2021-06-29T23:08:38.826722Z",
     "iopub.status.idle": "2021-06-29T23:08:40.030357Z",
     "shell.execute_reply": "2021-06-29T23:08:40.029356Z",
     "shell.execute_reply.started": "2021-06-29T23:08:38.827722Z"
    }
   },
   "outputs": [],
   "source": [
    "# Select the trips that are in 'trip_sel_df'\n",
    "data_filtered = pd.concat(list(processed_df_dict.values()))\n",
    "data_filtered = data_filtered[data_filtered.trip_id.isin(trip_sel_df.trip_id.unique())]"
   ]
  },
  {
   "cell_type": "code",
   "execution_count": null,
   "metadata": {},
   "outputs": [],
   "source": [
    "# Export data for visualization\n",
    "data_filtered.to_csv('WISCONSIN_TSP_VIZ_RAWNAV.csv', index = False)"
   ]
  }
 ],
 "metadata": {
  "kernelspec": {
   "display_name": "Python 3",
   "language": "python",
   "name": "python3"
  },
  "language_info": {
   "codemirror_mode": {
    "name": "ipython",
    "version": 3
   },
   "file_extension": ".py",
   "mimetype": "text/x-python",
   "name": "python",
   "nbconvert_exporter": "python",
   "pygments_lexer": "ipython3",
   "version": "3.7.6"
  }
 },
 "nbformat": 4,
 "nbformat_minor": 4
}
